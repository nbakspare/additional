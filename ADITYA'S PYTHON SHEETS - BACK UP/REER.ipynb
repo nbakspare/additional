{
 "cells": [
  {
   "cell_type": "code",
   "execution_count": 1,
   "metadata": {},
   "outputs": [
    {
     "data": {
      "text/html": [
       "<script>\n",
       "code_show=true; \n",
       "function code_toggle() {\n",
       " if (code_show){\n",
       " $('div.input').hide();\n",
       " } else {\n",
       " $('div.input').show();\n",
       " }\n",
       " code_show = !code_show\n",
       "} \n",
       "$( document ).ready(code_toggle);\n",
       "</script>\n",
       "<form action=\"javascript:code_toggle()\"><input type=\"submit\" value=\"Click here to toggle on/off the raw code.\"></form>"
      ],
      "text/plain": [
       "<IPython.core.display.HTML object>"
      ]
     },
     "execution_count": 1,
     "metadata": {},
     "output_type": "execute_result"
    }
   ],
   "source": [
    "from IPython.display import HTML\n",
    "\n",
    "HTML('''<script>\n",
    "code_show=true; \n",
    "function code_toggle() {\n",
    " if (code_show){\n",
    " $('div.input').hide();\n",
    " } else {\n",
    " $('div.input').show();\n",
    " }\n",
    " code_show = !code_show\n",
    "} \n",
    "$( document ).ready(code_toggle);\n",
    "</script>\n",
    "<form action=\"javascript:code_toggle()\"><input type=\"submit\" value=\"Click here to toggle on/off the raw code.\"></form>''')\n"
   ]
  },
  {
   "cell_type": "code",
   "execution_count": 2,
   "metadata": {},
   "outputs": [],
   "source": [
    "from datetime import datetime as dt\n",
    "import matplotlib.pyplot as plt\n",
    "import pandas as pd\n",
    "import matplotlib.image as image\n",
    "from ipywidgets import interact, IntSlider, Checkbox, Dropdown, Output, HBox, VBox, interactive, interactive_output, ToggleButton,Text, Button, DatePicker, IntText, ToggleButtons, RadioButtons,SelectMultiple\n",
    "from IPython.display import display, clear_output"
   ]
  },
  {
   "cell_type": "code",
   "execution_count": 3,
   "metadata": {},
   "outputs": [],
   "source": [
    "df = pd.read_excel(\"Y:\\\\Analytics and Tools\\\\NIV\\\\REER.xlsx\")\n",
    "df['Reference area'] = [i.split(':')[1] for i in df['Reference area']]\n",
    "df.set_index(['Reference area'], inplace = True)\n",
    "df = df.T\n",
    "\n",
    "df.index = pd.to_datetime(df.index)\n",
    "df.rename(columns = {'T&uuml;rkiye': 'Turkiye'}, inplace= True)\n",
    "\n",
    "df.sort_index(axis = 1, inplace = True)\n",
    "df.drop(columns=['Algeria', 'Bosnia & Herzegovina', 'Bulgaria', 'Chinese Taipei', 'Croatia'], inplace = True)"
   ]
  },
  {
   "cell_type": "code",
   "execution_count": 4,
   "metadata": {},
   "outputs": [
    {
     "data": {
      "application/vnd.jupyter.widget-view+json": {
       "model_id": "3cd97ec91f694e38b0044ace4b5e3cf2",
       "version_major": 2,
       "version_minor": 0
      },
      "text/plain": [
       "HBox(children=(VBox(children=(HBox(children=(Dropdown(description='Start Month', options=('Jan', 'Feb', 'Mar',…"
      ]
     },
     "metadata": {},
     "output_type": "display_data"
    },
    {
     "data": {
      "application/vnd.jupyter.widget-view+json": {
       "model_id": "015a490f0acc4ce2928a4914775b30fa",
       "version_major": 2,
       "version_minor": 0
      },
      "text/plain": [
       "Button(description='Chart', style=ButtonStyle())"
      ]
     },
     "metadata": {},
     "output_type": "display_data"
    },
    {
     "data": {
      "application/vnd.jupyter.widget-view+json": {
       "model_id": "784a02c24bc94f9dbf239ef2e7aefaf4",
       "version_major": 2,
       "version_minor": 0
      },
      "text/plain": [
       "Output()"
      ]
     },
     "metadata": {},
     "output_type": "display_data"
    }
   ],
   "source": [
    "MNTH = {'Jan':1, 'Feb':2, 'Mar':3, 'Apr':4, 'May':5, 'Jun':6, 'Jul':7, 'Aug':8, 'Sep':9, 'Oct':10, 'Nov':11, 'Dec': 12}\n",
    "output1 = Output()\n",
    "\n",
    "FROMM_W = Dropdown(options = MNTH.keys(), value = 'Jan', description = 'Start Month')\n",
    "FROMY_W = Dropdown(options = range(1994,2024), value = 2010, description = 'Start Year')\n",
    "\n",
    "TOM_W = Dropdown(options = MNTH.keys(), value = 'Jun', description = 'End Month')\n",
    "TOY_W = Dropdown(options = range(1994,2024), value = 2023, description = 'End Year')\n",
    "\n",
    "FROM_W  = HBox([FROMM_W, FROMY_W])\n",
    "TO_W  = HBox([TOM_W, TOY_W])\n",
    "ECY_W = SelectMultiple(options = df.columns, description='Countries')\n",
    "\n",
    "DATE_W = VBox([FROM_W, TO_W])\n",
    "\n",
    "CHART_B = Button(description = 'Chart')\n",
    "\n",
    "display(HBox([DATE_W, ECY_W]))\n",
    "display(CHART_B, output1)\n",
    "\n",
    "def chart_click(b):\n",
    "    with output1:\n",
    "        clear_output()\n",
    "        _from = dt(FROMY_W.value,MNTH[FROMM_W.value],1)\n",
    "        _to = dt(TOY_W.value,MNTH[TOM_W.value],1)\n",
    "        include = [i for i in df.index if i >= _from and i <= _to ]\n",
    "        \n",
    "        try:\n",
    "            df.loc[include,ECY_W.value].plot(figsize = (16,8), title = ' Real Effective Exchange rate')\n",
    "            plt.show()\n",
    "        \n",
    "        except:\n",
    "            print('Select countries to chart')\n",
    "\n",
    "\n",
    "CHART_B.on_click(chart_click)"
   ]
  }
 ],
 "metadata": {
  "kernelspec": {
   "display_name": "Python 3",
   "language": "python",
   "name": "python3"
  },
  "language_info": {
   "codemirror_mode": {
    "name": "ipython",
    "version": 3
   },
   "file_extension": ".py",
   "mimetype": "text/x-python",
   "name": "python",
   "nbconvert_exporter": "python",
   "pygments_lexer": "ipython3",
   "version": "3.6.5"
  }
 },
 "nbformat": 4,
 "nbformat_minor": 2
}
