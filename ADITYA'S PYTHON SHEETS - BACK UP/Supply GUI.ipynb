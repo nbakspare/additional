{
 "cells": [
  {
   "cell_type": "code",
   "execution_count": 4,
   "metadata": {},
   "outputs": [
    {
     "data": {
      "text/html": [
       "<script>\n",
       "code_show=true; \n",
       "function code_toggle() {\n",
       " if (code_show){\n",
       " $('div.input').hide();\n",
       " } else {\n",
       " $('div.input').show();\n",
       " }\n",
       " code_show = !code_show\n",
       "} \n",
       "$( document ).ready(code_toggle);\n",
       "</script>\n",
       "<form action=\"javascript:code_toggle()\"><input type=\"submit\" value=\"Click here to toggle on/off the raw code.\"></form>"
      ],
      "text/plain": [
       "<IPython.core.display.HTML object>"
      ]
     },
     "execution_count": 4,
     "metadata": {},
     "output_type": "execute_result"
    }
   ],
   "source": [
    "from IPython.display import HTML\n",
    "\n",
    "HTML('''<script>\n",
    "code_show=true; \n",
    "function code_toggle() {\n",
    " if (code_show){\n",
    " $('div.input').hide();\n",
    " } else {\n",
    " $('div.input').show();\n",
    " }\n",
    " code_show = !code_show\n",
    "} \n",
    "$( document ).ready(code_toggle);\n",
    "</script>\n",
    "<form action=\"javascript:code_toggle()\"><input type=\"submit\" value=\"Click here to toggle on/off the raw code.\"></form>''')"
   ]
  },
  {
   "cell_type": "code",
   "execution_count": 5,
   "metadata": {},
   "outputs": [],
   "source": [
    "import pandas as pd\n",
    "from xbbg import blp\n",
    "import numpy as np\n",
    "import matplotlib.pyplot as plt\n",
    "import seaborn as sns\n",
    "from datetime import datetime as dt\n",
    "from datetime import timedelta as td\n",
    "import statsmodels.api as sm\n",
    "import re\n",
    "import matplotlib.image as image\n",
    "from ipywidgets import interact, IntSlider, Checkbox, Dropdown, Output, HBox, VBox, interactive, interactive_output, ToggleButton,Text, Button, DatePicker, IntText, ToggleButtons, RadioButtons,SelectMultiple\n",
    "from IPython.display import display, clear_output\n",
    "import itertools\n",
    "from scipy import stats\n",
    "from scipy.optimize import minimize \n",
    "from scipy.special import ndtr\n",
    "\n",
    "c_freq = {'BTP':200,'DBR':100,'FRTR':100,'GGB':100, 'GILT':200, 'IRISH':100,'NETHER':100,'PGB':100,'RAGB':100,'SPGB':100,'UST':200}\n",
    "scheds = {i: pd.read_excel(f\"Y:\\\\Analytics and Tools\\\\SUPPLY AND NET SUPPLY\\\\Schedules (DO NOT MOVE)\\\\{i.lower()}_schedule.xlsx\").rename(columns = {'Unnamed: 0':'Date'}).set_index('Date').fillna(0) for i in c_freq.keys()}\n",
    "final_sched = {}\n",
    "final_sched['USA'] = scheds['UST']\n",
    "final_sched['UK'] = scheds['GILT']\n",
    "final_sched['EU Core'] = pd.read_excel(\"Y:\\\\Analytics and Tools\\\\SUPPLY AND NET SUPPLY\\\\Schedules (DO NOT MOVE)\\\\EU Core_schedule.xlsx\").rename(columns = {'Unnamed: 0':'Date'}).set_index('Date').fillna(0)\n",
    "final_sched['EU Periph.'] = pd.read_excel(\"Y:\\\\Analytics and Tools\\\\SUPPLY AND NET SUPPLY\\\\Schedules (DO NOT MOVE)\\\\EU Periph._schedule.xlsx\").rename(columns = {'Unnamed: 0':'Date'}).set_index('Date').fillna(0)"
   ]
  },
  {
   "cell_type": "code",
   "execution_count": 6,
   "metadata": {},
   "outputs": [
    {
     "data": {
      "application/vnd.jupyter.widget-view+json": {
       "model_id": "4c8511f84bf94d8997447662e61967fe",
       "version_major": 2,
       "version_minor": 0
      },
      "text/plain": [
       "VBox(children=(HBox(children=(Dropdown(description='Economic Region', options=('USA', 'UK', 'EU Core', 'EU Per…"
      ]
     },
     "metadata": {},
     "output_type": "display_data"
    },
    {
     "data": {
      "application/vnd.jupyter.widget-view+json": {
       "model_id": "ea9faed01f58467a8462321a35984b98",
       "version_major": 2,
       "version_minor": 0
      },
      "text/plain": [
       "Button(description='Produce Table', style=ButtonStyle())"
      ]
     },
     "metadata": {},
     "output_type": "display_data"
    },
    {
     "data": {
      "application/vnd.jupyter.widget-view+json": {
       "model_id": "c06d87be1b174997a04040e6917d3bf9",
       "version_major": 2,
       "version_minor": 0
      },
      "text/plain": [
       "Output()"
      ]
     },
     "metadata": {},
     "output_type": "display_data"
    }
   ],
   "source": [
    "style = {'description_width': 'initial'}\n",
    "\n",
    "tdy = dt.today()\n",
    "year,month= tdy.year,tdy.month\n",
    "\n",
    "_from = DatePicker(value = dt(year,month,1,0,0,0) ,description = 'From')\n",
    "_to = DatePicker(value = dt(year,(month+1)%12,1,0,0,0) - td(1),description = 'To')\n",
    "frequency = Dropdown(options =['Weekly','Monthly','Quarterly','Yearly'],description = 'Look at')\n",
    "ecy = Dropdown(options =['USA','UK','EU Core', 'EU Periph.'],description = 'Economic Region',style = style)\n",
    "\n",
    "output1 = Output()\n",
    "produce_table = Button (description ='Produce Table', style=style) \n",
    "\n",
    "ui = VBox([HBox([ecy,frequency]),HBox([_from,_to])])\n",
    "\n",
    "\n",
    "\n",
    "display(ui)\n",
    "display(produce_table,output1)\n",
    "\n",
    "def on_button_clicked1(b):\n",
    "        with output1:\n",
    "            clear_output()\n",
    "            df = final_sched[ecy.value]\n",
    "            df.index = pd.to_datetime(df.index)\n",
    "            check_start = True\n",
    "            check_end = True\n",
    "            i = 0\n",
    "            j = 0\n",
    "\n",
    "            while check_start:\n",
    "                if df.index[i]>=dt(_from.value.year,_from.value.month,_from.value.day):\n",
    "                    start = df.index[i]\n",
    "                    check_start =False\n",
    "                i+=1\n",
    "\n",
    "            while check_end:\n",
    "                if df.index[j]>=dt(_to.value.year,_to.value.month,_to.value.day):\n",
    "                    end = df.index[j]\n",
    "                    check_end =False\n",
    "                j+=1\n",
    "                \n",
    "            summ = df.loc[start:end].resample(frequency.value[0]).sum()\n",
    "            if frequency.value == 'Yearly':\n",
    "                summ.index = [i.strftime('%Y') for i in summ.index]\n",
    "            elif frequency.value == 'Monthly':\n",
    "                summ.index = [i.strftime('%b %y') for i in summ.index]\n",
    "            elif frequency.value == 'Quarterly':\n",
    "                 summ.index = [f\"Q{i.month//3} {i.strftime('%y')}\" for i in summ.index]\n",
    "            else:\n",
    "                summ.index = [i.strftime('%d %b %y') for i in summ.index]     \n",
    "            if ecy.value == 'USA':\n",
    "                display(summ.T.style.format('$ {:.1f} MM'))\n",
    "            elif ecy.value == 'UK':\n",
    "                display(summ.T.style.format('£ {:.1f} MM'))\n",
    "            else:\n",
    "                display(summ.T.style.format('€ {:.1f} MM'))\n",
    "produce_table.on_click(on_button_clicked1)"
   ]
  },
  {
   "cell_type": "code",
   "execution_count": null,
   "metadata": {},
   "outputs": [],
   "source": []
  }
 ],
 "metadata": {
  "kernelspec": {
   "display_name": "Python 3",
   "language": "python",
   "name": "python3"
  },
  "language_info": {
   "codemirror_mode": {
    "name": "ipython",
    "version": 3
   },
   "file_extension": ".py",
   "mimetype": "text/x-python",
   "name": "python",
   "nbconvert_exporter": "python",
   "pygments_lexer": "ipython3",
   "version": "3.6.5"
  }
 },
 "nbformat": 4,
 "nbformat_minor": 2
}
