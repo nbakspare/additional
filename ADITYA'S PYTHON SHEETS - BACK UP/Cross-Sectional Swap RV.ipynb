{
 "cells": [
  {
   "cell_type": "code",
   "execution_count": 1,
   "metadata": {},
   "outputs": [
    {
     "data": {
      "text/html": [
       "<script>\n",
       "code_show=true; \n",
       "function code_toggle() {\n",
       " if (code_show){\n",
       " $('div.input').hide();\n",
       " } else {\n",
       " $('div.input').show();\n",
       " }\n",
       " code_show = !code_show\n",
       "} \n",
       "$( document ).ready(code_toggle);\n",
       "</script>\n",
       "<form action=\"javascript:code_toggle()\"><input type=\"submit\" value=\"Click here to toggle on/off the raw code.\"></form>"
      ],
      "text/plain": [
       "<IPython.core.display.HTML object>"
      ]
     },
     "execution_count": 1,
     "metadata": {},
     "output_type": "execute_result"
    }
   ],
   "source": [
    "from IPython.display import HTML\n",
    "\n",
    "HTML('''<script>\n",
    "code_show=true; \n",
    "function code_toggle() {\n",
    " if (code_show){\n",
    " $('div.input').hide();\n",
    " } else {\n",
    " $('div.input').show();\n",
    " }\n",
    " code_show = !code_show\n",
    "} \n",
    "$( document ).ready(code_toggle);\n",
    "</script>\n",
    "<form action=\"javascript:code_toggle()\"><input type=\"submit\" value=\"Click here to toggle on/off the raw code.\"></form>''')\n"
   ]
  },
  {
   "cell_type": "code",
   "execution_count": 2,
   "metadata": {},
   "outputs": [],
   "source": [
    "import pandas as pd\n",
    "from xbbg import blp\n",
    "import numpy as np\n",
    "import matplotlib.pyplot as plt\n",
    "from datetime import datetime as dt\n",
    "from datetime import timedelta as td\n",
    "import statsmodels.api as sm\n",
    "import re\n",
    "import matplotlib.image as image\n",
    "from ipywidgets import interact, IntSlider, Checkbox, Dropdown, Output, HBox, VBox, interactive, interactive_output, ToggleButton,Text, Button, DatePicker, IntText, ToggleButtons, RadioButtons,SelectMultiple, FloatText\n",
    "from IPython.display import display, clear_output\n",
    "import itertools\n",
    "from scipy import stats\n",
    "from scipy.optimize import minimize \n",
    "from scipy.special import ndtr\n",
    "import warnings\n",
    "spot_library = {'eur_6':['EUSA', ' Curncy'],\n",
    "                 'eur': ['EESWE', ' Curncy'], #ois\n",
    "                 'usd': ['USOSFR', ' Curncy'], #ois\n",
    "                 'gbp': ['BPSWS', ' Curncy'],#ois\n",
    "                 'chf': ['SFSNT', ' Curncy'],#ois\n",
    "                 'sek': ['SKSW', ' Curncy'],#irs\n",
    "                 'nok': ['NKSW', ' Curncy'],#irs\n",
    "                 'hkd': ['HDSW', ' Curncy'],#irs\n",
    "                 'czk': ['CKSW', ' Curncy'],#irs\n",
    "                 'pln': ['PZSW', ' Curncy'],#irs\n",
    "                 'ils':['ISSW', ' Curncy'], #irs\n",
    "                 'cad':['CDSW', ' Curncy'], #irs\n",
    "                 'jpy':['JYSO', ' Curncy'],#ois\n",
    "                 'aud': ['ADSW', ' Curncy'],#irs\n",
    "                'sgd':['SDSW', ' Curncy'],#irs\n",
    "                'krw': ['KWSWNI', ' Curncy'],#irs\n",
    "                'zar': ['SASW', ' Curncy'],#irs\n",
    "                'nzd': ['NDSW', ' Curncy'],#irs\n",
    "                'mxn': ['MPSW', ' Curncy']} #irs\n",
    "\n",
    "forward_library = {'eur_6': ['EUSA', ' Curncy'], #Z\n",
    "                 'eur': ['S0514FS ', ' BLC Curncy'], \n",
    "                 'usd': ['S0490FS ', ' BLC Curncy'], \n",
    "                 'gbp': ['S0141FS ', ' BLC Curncy'],\n",
    "                 'chf': ['S0234FS ', ' BLC Curncy'],\n",
    "                 'sek': ['SD0020FS ', ' BLC Curncy'],\n",
    "                 'nok': ['SD0313FS ', ' BLC Curncy'],\n",
    "                 'hkd': ['HDFS', ' Curncy'],#Z\n",
    "                 'czk': ['S0320FS ', ' BLC Curncy'],\n",
    "                 'pln': ['S0323FS ', ' BLC Curncy'],\n",
    "                 'ils': ['ISFS', ' Curncy'], #Z\n",
    "                 'cad': ['CDFS', ' Curncy'], #Z\n",
    "                 'jpy': ['S0195FS ', ' BLC Curncy'],\n",
    "                 'aud': ['SD0302FS ', ' BLC Curncy'],\n",
    "                'sgd': ['SDFS', ' Curncy'],#Z\n",
    "                'krw': ['S0205FS ', ' BLC Curncy'],\n",
    "                'zar': ['SAFS', ' Curncy'],#\n",
    "                'nzd': ['SD0015FS ', ' BLC Curncy'],\n",
    "                'mxn': ['SD0083FS ', ' BLC Curncy']} \n"
   ]
  },
  {
   "cell_type": "code",
   "execution_count": 3,
   "metadata": {},
   "outputs": [],
   "source": [
    "\n",
    "def cut(some):\n",
    "    x = 0\n",
    "    y = some[0]\n",
    "    while y.isdigit():\n",
    "        y=some[x]\n",
    "        x+=1\n",
    "    return some[:x],some[x:]\n",
    "\n",
    "\n",
    "def f(tenor):\n",
    "    x = re.findall(r'\\d+',tenor)[0]\n",
    "    num = ''\n",
    "    if 'm' in tenor.lower():\n",
    "        if int(x) // 12 >0:\n",
    "            num+='1'\n",
    "        num+=chr(64+(int(x)%12))\n",
    "    else:\n",
    "        if len(x) == 1:\n",
    "            num+='0'\n",
    "        num +=x\n",
    "    return num\n",
    "\n",
    "def t(tenor):\n",
    "    x = re.findall(r'\\d+',tenor)[0]\n",
    "    num = ''\n",
    "    if 'm' in tenor.lower():\n",
    "        if int(x) // 12 >0:\n",
    "            num+='1'\n",
    "        else:\n",
    "            num+='0'\n",
    "        num+=chr(64+(int(x)%12))\n",
    "    else:\n",
    "        if len(x) == 1:\n",
    "            num+='0'\n",
    "        num +=x\n",
    "    return num\n",
    "\n",
    "\n",
    "def spot_ticker(dex,tenor):\n",
    "    dex = dex.lower()\n",
    "    if dex.lower() == 'mxn':\n",
    "        y = int(tenor[:-1]) * 13\n",
    "        num = f'{y//12}{chr(64+(y%12))}'\n",
    "    else:\n",
    "        num = tenor[:-1]\n",
    "    return f'{spot_library[dex][0]}{num}{spot_library[dex][1]}'\n",
    "\n",
    "def forward_ticker(dex,fwd):\n",
    "    dex = dex.lower()\n",
    "    fwd = fwd.lower()\n",
    "    old = ['eur_6','hkd','ils','cad','sgd','zar']\n",
    "    \n",
    "    if cut(fwd)[0] == '0y':\n",
    "        return spot_ticker(dex,cut(fwd)[1])\n",
    "    elif dex == 'eur_6':\n",
    "        F,T = f(cut(fwd)[0]),t(cut(fwd)[1])\n",
    "        return f'{forward_library[dex][0]}{F}{T}{forward_library[dex][1]}'\n",
    "    elif dex in old:\n",
    "        F,T = t(cut(fwd)[0]),t(cut(fwd)[1])\n",
    "        return f'{forward_library[dex][0]}{F}{T}{forward_library[dex][1]}'\n",
    "    else:\n",
    "        return f'{forward_library[dex][0]}{fwd.upper()}{forward_library[dex][1]}'\n",
    "    \n",
    "def structure(dex,structure,start, end = 'today',bps = True):\n",
    "    f_fly = structure.count('/') == 2\n",
    "    f_crv = structure.count('/') == 1  \n",
    "    fly = structure.count('s') == 3\n",
    "    crv = structure.count('s') == 2\n",
    "    out = max(2 -sum([i.isalpha() for i in structure]),0)\n",
    "    \n",
    "    if f_fly or f_crv:\n",
    "        legs = [forward_ticker(dex,i) for i in structure.split('/')]\n",
    "    elif fly or crv:\n",
    "        legs = [spot_ticker(dex,i) for i in [i+'Y' for i in structure.split('s') if i.isdigit()]]\n",
    "    else:\n",
    "        legs = forward_ticker(dex,('0Y'*out) + structure)\n",
    "        \n",
    "    df = blp.bdh(legs, flds='px_last', start_date=start,end_date=end)  *(100 if bps else 1)\n",
    "    s  = pd.DataFrame({})\n",
    "    if f_fly or fly:\n",
    "        x = (2 * df.iloc[:,1]) - (df.iloc[:,0] + df.iloc[:,2])\n",
    "    elif f_crv or crv:\n",
    "        x = df.iloc[:,1] - df.iloc[:,0]\n",
    "    else:\n",
    "        x = df.iloc[:,0]\n",
    "        \n",
    "    s[f'{dex.upper()} {structure}'] = x\n",
    "    return s\n",
    "\n",
    "def threeM_roll(structure): # only valid for >=1y f\n",
    "    fds = [int(i.split('y')[0])*12 -3 for i in structure.split('/')]\n",
    "    act = [int(i.split('y')[1]) for i in structure.split('/')]\n",
    "    roll_to = [f'{i}M{j}Y' for i,j in zip(fds,act)]\n",
    "    new_structure =''\n",
    "    for i in range(len(roll_to)):\n",
    "        if i !=0:\n",
    "            new_structure += '/'    \n",
    "        new_structure += roll_to[i]\n",
    "    return new_structure\n",
    "    "
   ]
  },
  {
   "cell_type": "markdown",
   "metadata": {},
   "source": [
    "### MOVEMENTS ALONG THE FORWARD CURVES\n"
   ]
  },
  {
   "cell_type": "code",
   "execution_count": 4,
   "metadata": {},
   "outputs": [],
   "source": [
    "chg_dict = {'1W':5,'2W':10,'1M':20,'2M':40,'3M':60}"
   ]
  },
  {
   "cell_type": "code",
   "execution_count": 5,
   "metadata": {
    "scrolled": false
   },
   "outputs": [
    {
     "data": {
      "application/vnd.jupyter.widget-view+json": {
       "model_id": "33a7901ad7f3441bad26443483a116da",
       "version_major": 2,
       "version_minor": 0
      },
      "text/plain": [
       "SelectMultiple(description='Curves', index=(1, 2, 3, 4, 13, 11), options=('EUR_6', 'EUR', 'USD', 'GBP', 'CHF',…"
      ]
     },
     "metadata": {},
     "output_type": "display_data"
    },
    {
     "data": {
      "application/vnd.jupyter.widget-view+json": {
       "model_id": "d73cc03930f349cd978d928d88f41d36",
       "version_major": 2,
       "version_minor": 0
      },
      "text/plain": [
       "Dropdown(description='Change over', options=('1W', '2W', '1M', '2M', '3M'), value='1W')"
      ]
     },
     "metadata": {},
     "output_type": "display_data"
    },
    {
     "data": {
      "application/vnd.jupyter.widget-view+json": {
       "model_id": "854d8efe0b5541e7b1c6199f152a5554",
       "version_major": 2,
       "version_minor": 0
      },
      "text/plain": [
       "DatePicker(value=datetime.date(2023, 9, 25), description='As of')"
      ]
     },
     "metadata": {},
     "output_type": "display_data"
    },
    {
     "data": {
      "application/vnd.jupyter.widget-view+json": {
       "model_id": "456801c8274941afa4874bd2b68e034d",
       "version_major": 2,
       "version_minor": 0
      },
      "text/plain": [
       "Button(description='Chart Moves', style=ButtonStyle())"
      ]
     },
     "metadata": {},
     "output_type": "display_data"
    },
    {
     "data": {
      "application/vnd.jupyter.widget-view+json": {
       "model_id": "fe793204fe124027b9ab56933cab9f4e",
       "version_major": 2,
       "version_minor": 0
      },
      "text/plain": [
       "Output()"
      ]
     },
     "metadata": {},
     "output_type": "display_data"
    }
   ],
   "source": [
    "chg_dict = {'1W':5,'2W':10,'1M':20,'2M':40,'3M':60}\n",
    "output1 = Output()\n",
    "\n",
    "COUNTRIES_W = SelectMultiple(options = [i.upper() for i in spot_library.keys()],\n",
    "                              value = ['EUR', 'USD', 'GBP','CHF','AUD','CAD'],\n",
    "                             description = 'Curves')\n",
    "\n",
    "CHANGE_OVER_W = Dropdown(options = chg_dict.keys(), description = 'Change over') \n",
    "END_W = DatePicker(value = dt.today().date(), description = 'As of' )\n",
    "\n",
    "SHOW_FWD_B = Button(description = 'Chart Moves')\n",
    "\n",
    "display(COUNTRIES_W,CHANGE_OVER_W,END_W)\n",
    "display(SHOW_FWD_B, output1)\n",
    "\n",
    "def on_button_clicked1(b):\n",
    "    with output1:\n",
    "        clear_output()\n",
    "        \n",
    "        counter = 0\n",
    "        tenors = ['0Y1Y','1Y1Y','2Y1Y','3Y1Y','4Y1Y','5Y1Y','6Y1Y','7Y3Y','10Y2Y','15Y5Y','20Y5Y','25Y5Y']\n",
    "        fc = pd.DataFrame({}, columns = [i.upper() for i in COUNTRIES_W.value], index = tenors)\n",
    "        start = END_W.value - td(days = 2 * chg_dict[CHANGE_OVER_W.value])\n",
    "        \n",
    "        df = None\n",
    "        for i in COUNTRIES_W.value:\n",
    "            \n",
    "            denom = len(tenors) * len(COUNTRIES_W.value) \n",
    "            data_loaded = round(100 * counter/denom,2) \n",
    "            print(f\"Loading data...({data_loaded}% done)\")\n",
    "            \n",
    "            for j in tenors:\n",
    "                if isinstance(df,pd.core.frame.DataFrame):\n",
    "                    h = structure(i,j,start=start,end=END_W.value)\n",
    "                    df = df.join(h,how = 'inner')\n",
    "                else:\n",
    "                    df = structure(i,j,start=start,end=END_W.value)\n",
    "                counter+=1\n",
    "            clear_output()\n",
    "        \n",
    "        _from, _to = df.index[-chg_dict[CHANGE_OVER_W.value]], df.index[-1]\n",
    "        change = df.loc[_to] - df.loc[_from]\n",
    "        \n",
    "        for i in change.index:\n",
    "            col,row = i.split(' ')\n",
    "            fc.at[row, col] = change[i]\n",
    "        \n",
    "        fig,ax = plt.subplots(figsize = (18,8))\n",
    "        for i in fc.columns:\n",
    "            ax.plot(fc[i],label = i, marker = 'D')\n",
    "        \n",
    "        ax.legend()\n",
    "        ax.set_title(f\"FORWARD CURVES, {CHANGE_OVER_W.value} CHANGE AS OF {END_W.value.strftime('%d %B')}\".upper())\n",
    "        ax.hlines(y=0,linestyles='--',xmin = 0,xmax = 11)\n",
    "        ax.set_ylabel('bps')\n",
    "        plt.show()\n",
    "\n",
    "SHOW_FWD_B.on_click(on_button_clicked1)"
   ]
  },
  {
   "cell_type": "markdown",
   "metadata": {},
   "source": [
    "### STRUCTURES AGAINST A REFERENCE\n",
    "The following chart plots a cross-sectional relation between a reference tenor move versus the move in the desired structure.\n"
   ]
  },
  {
   "cell_type": "code",
   "execution_count": 6,
   "metadata": {},
   "outputs": [],
   "source": [
    "df = None\n",
    "regressor = None\n",
    "regressand = None\n",
    "data_ready = False\n",
    "countries = [i.upper() for i in spot_library.keys()]"
   ]
  },
  {
   "cell_type": "code",
   "execution_count": 7,
   "metadata": {},
   "outputs": [
    {
     "data": {
      "application/vnd.jupyter.widget-view+json": {
       "model_id": "6c1348b356e5445096ce3ec74e63fc52",
       "version_major": 2,
       "version_minor": 0
      },
      "text/plain": [
       "HBox(children=(Text(value='', description='Regress'), Text(value='', description='on')))"
      ]
     },
     "metadata": {},
     "output_type": "display_data"
    },
    {
     "data": {
      "application/vnd.jupyter.widget-view+json": {
       "model_id": "0943b4af0f774abca43d4ac4b9582e02",
       "version_major": 2,
       "version_minor": 0
      },
      "text/plain": [
       "Dropdown(description='Change over', options=('1W', '2W', '1M', '2M', '3M'), value='1W')"
      ]
     },
     "metadata": {},
     "output_type": "display_data"
    },
    {
     "data": {
      "application/vnd.jupyter.widget-view+json": {
       "model_id": "8888c44fd7e54e64a41927c701af4df7",
       "version_major": 2,
       "version_minor": 0
      },
      "text/plain": [
       "DatePicker(value=datetime.date(2023, 9, 25), description='As of')"
      ]
     },
     "metadata": {},
     "output_type": "display_data"
    },
    {
     "data": {
      "application/vnd.jupyter.widget-view+json": {
       "model_id": "566072c0d8244103bf56f574c92f9ca5",
       "version_major": 2,
       "version_minor": 0
      },
      "text/plain": [
       "ToggleButtons(options=('Scatter', 'Model Diagnostics', 'Dislocations', 'Daily Vol.'), value='Scatter')"
      ]
     },
     "metadata": {},
     "output_type": "display_data"
    },
    {
     "data": {
      "application/vnd.jupyter.widget-view+json": {
       "model_id": "b80e0139a32146dd8d1ae474997f74f2",
       "version_major": 2,
       "version_minor": 0
      },
      "text/plain": [
       "Button(description='Load Data', style=ButtonStyle())"
      ]
     },
     "metadata": {},
     "output_type": "display_data"
    },
    {
     "data": {
      "application/vnd.jupyter.widget-view+json": {
       "model_id": "dcc7efbea5474eee91bd3e56d1e3d4ec",
       "version_major": 2,
       "version_minor": 0
      },
      "text/plain": [
       "Button(description='Run Regression', style=ButtonStyle())"
      ]
     },
     "metadata": {},
     "output_type": "display_data"
    },
    {
     "data": {
      "application/vnd.jupyter.widget-view+json": {
       "model_id": "be8aec26516e4351ae2c543213d3c39f",
       "version_major": 2,
       "version_minor": 0
      },
      "text/plain": [
       "Output()"
      ]
     },
     "metadata": {},
     "output_type": "display_data"
    }
   ],
   "source": [
    "TARGET_STR_W = Text(description = 'Regress')\n",
    "REFERENCE_W = Text(description = 'on')\n",
    "CHANGE_OVER1_W = Dropdown(options = chg_dict.keys(), description = 'Change over') \n",
    "END1_W = DatePicker(value = dt.today().date(), description = 'As of' )\n",
    "METRICS_W = ToggleButtons(options = ['Scatter', 'Model Diagnostics', 'Dislocations','Daily Vol.'])\n",
    "\n",
    "output2 = Output()\n",
    "\n",
    "RUN_REG_B = Button(description = 'Run Regression')\n",
    "LOAD_DATA_B = Button(description = 'Load Data')\n",
    "\n",
    "display(HBox([TARGET_STR_W,REFERENCE_W]),CHANGE_OVER1_W,END1_W, METRICS_W)\n",
    "display(LOAD_DATA_B,RUN_REG_B,output2)\n",
    "\n",
    "def on_button_clicked2(b):    \n",
    "    global df\n",
    "    global regressor\n",
    "    global regressand\n",
    "    global data_ready\n",
    "    \n",
    "    with output2:\n",
    "        clear_output()\n",
    "        counter = 0\n",
    "        regressor, regressand = REFERENCE_W.value,TARGET_STR_W.value \n",
    "        start = dt(END1_W.value.year -1,END1_W.value.month,END1_W.value.day)\n",
    "        for c in countries:\n",
    "            for s in [REFERENCE_W.value,TARGET_STR_W.value]:\n",
    "                data_loaded = round(50 * counter/len(countries),2) \n",
    "                print(f\"Loading data...({data_loaded}% done)\")\n",
    "                counter += 1\n",
    "                try:\n",
    "                    if isinstance(df,pd.core.frame.DataFrame):\n",
    "                        h = structure(c,s,start=start,end=END1_W.value)\n",
    "                        df = df.join(h,how = 'inner')\n",
    "                    else:\n",
    "                        df= structure(c,s,start=start,end=END1_W.value)\n",
    "                except:\n",
    "                    pass\n",
    "                clear_output()\n",
    "        print(\"Data loaded\")\n",
    "        data_ready = True\n",
    "        \n",
    "    \n",
    "def on_button_clicked3(b):\n",
    "    with output2:\n",
    "        clear_output()\n",
    "        study = pd.DataFrame({}, index = countries, columns = [REFERENCE_W.value,TARGET_STR_W.value])\n",
    "        \n",
    "        \n",
    "        x_and_y = (regressor == REFERENCE_W.value) & (regressand == TARGET_STR_W.value)\n",
    "        \n",
    "        if not data_ready:\n",
    "            print('Please load the data before beginning analysis')\n",
    "            \n",
    "        elif not x_and_y:\n",
    "            print(f'Data is loaded for different structure(s). Please press load data again for the\\n structures you have entered')\n",
    "        \n",
    "        else:\n",
    "            changes = df.loc[df.index[-1]] - df.loc[df.index[-chg_dict[CHANGE_OVER1_W.value]]] \n",
    "            for s in study.columns:\n",
    "                for c in study.index:\n",
    "                    try:\n",
    "                        study.at[c,s] = changes[f\"{c} {s}\"]\n",
    "                    except:\n",
    "                        study.drop(index=c, inplace = True)\n",
    "        \n",
    "            study.dropna(inplace = True)\n",
    "            study = study.astype(float)\n",
    "            X = sm.add_constant(study[REFERENCE_W.value])\n",
    "            model = sm.OLS(study[TARGET_STR_W.value],X).fit(cov_type = 'HC3')\n",
    "            cons,slp = model.params\n",
    "            xs = np.linspace(study[REFERENCE_W.value].min(), study[REFERENCE_W.value].max(),100)\n",
    "            line = cons + slp*xs\n",
    "            \n",
    "            if METRICS_W.value == 'Scatter':\n",
    "                fig,ax = plt.subplots(figsize = (15,8))\n",
    "                ax.scatter(study[REFERENCE_W.value],study[TARGET_STR_W.value],marker = 'D')\n",
    "                ax.plot(xs,line, color = 'r')\n",
    "                ax.set_title(f\"{TARGET_STR_W.value} VERSUS {REFERENCE_W.value}, {CHANGE_OVER1_W.value} CHANGE AS OF {END1_W.value.strftime('%d %B').upper()}\")\n",
    "                ax.set_ylabel(TARGET_STR_W.value)\n",
    "                ax.set_xlabel(REFERENCE_W.value)\n",
    "                for i in study.index:\n",
    "                    ax.annotate(i,(study.at[i,REFERENCE_W.value],study.at[i,TARGET_STR_W.value]))\n",
    "                plt.show()\n",
    "                \n",
    "            elif METRICS_W.value == 'Dislocations':\n",
    "                display(pd.DataFrame({'DISLOCATIONS' :model.resid.values},index = model.resid.index).style.format('{:.2f}'))\n",
    "            \n",
    "            elif METRICS_W.value == 'Daily Vol.':\n",
    "                cols = [i for i in df.columns if TARGET_STR_W.value in i]\n",
    "                cols = [i for i in cols if i.split()[0] in study.index]\n",
    "                vols = df[cols].diff().std()\n",
    "                display(pd.DataFrame({'DAILY VOL' : vols.values},index = vols.index).style.format('{:.2f}'))\n",
    "                \n",
    "                \n",
    "            else:\n",
    "                display(model.summary())\n",
    "            \n",
    "            \n",
    "           \n",
    "        \n",
    "LOAD_DATA_B.on_click(on_button_clicked2)\n",
    "RUN_REG_B.on_click(on_button_clicked3)"
   ]
  },
  {
   "cell_type": "code",
   "execution_count": null,
   "metadata": {},
   "outputs": [],
   "source": []
  }
 ],
 "metadata": {
  "kernelspec": {
   "display_name": "Python 3",
   "language": "python",
   "name": "python3"
  },
  "language_info": {
   "codemirror_mode": {
    "name": "ipython",
    "version": 3
   },
   "file_extension": ".py",
   "mimetype": "text/x-python",
   "name": "python",
   "nbconvert_exporter": "python",
   "pygments_lexer": "ipython3",
   "version": "3.6.5"
  }
 },
 "nbformat": 4,
 "nbformat_minor": 2
}
