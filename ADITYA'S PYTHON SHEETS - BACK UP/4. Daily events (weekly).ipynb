{
 "cells": [
  {
   "cell_type": "code",
   "execution_count": 59,
   "metadata": {},
   "outputs": [],
   "source": [
    "import pandas as pd\n",
    "import numpy as np\n",
    "from datetime import timedelta as td\n",
    "from datetime import datetime as dt\n",
    "import xlsxwriter as xl\n",
    "\n",
    "g = ['US','UK','EC', 'CA','IT','FR','GE','SZ','SP']\n",
    "s = ['DE','SW','NO']\n",
    "a = ['AU','NZ']\n",
    "c = ['HU','CZ','NO']\n",
    "z = ['SA','IS']\n",
    "l = ['MX','BZ','CO','CL']\n",
    "w = g + s + a + c + z + l\n",
    "\n",
    "day_label = {0: 'Monday',1:'Tuesday',2:'Wednesday',3:'Thursday',4:'Friday'}"
   ]
  },
  {
   "cell_type": "code",
   "execution_count": 60,
   "metadata": {},
   "outputs": [],
   "source": [
    "def country_fix(x):\n",
    "    if x == 'EC':\n",
    "        return 'EU'\n",
    "    elif x == 'UK':\n",
    "        return 'GB'\n",
    "    else:\n",
    "        return x\n",
    "\n",
    "def no(x):\n",
    "    if type(x) != float:\n",
    "        return np.nan\n",
    "    else:\n",
    "        return x\n",
    "    \n",
    "def percent(x):\n",
    "    if x != '':\n",
    "        if type(x) == float and abs(x)<1:\n",
    "            return str(round(x*100,2))+'% exp'\n",
    "        else:\n",
    "            return str(x) +' exp' \n",
    "    else:\n",
    "        return x\n",
    "\n",
    "#def insert_exp(a,b):\n",
    "#    if b:\n",
    "#        return str(a)+' exp'\n",
    "#    else:\n",
    "#        return ''"
   ]
  },
  {
   "cell_type": "code",
   "execution_count": 71,
   "metadata": {},
   "outputs": [],
   "source": [
    "dfs = pd.read_excel('C:\\\\BLP\\\\data\\\\calendar.xlsx')\n",
    "dfs = dfs[dfs['Unnamed: 1'].isin(w)].copy(deep = True)\n",
    "dfs.fillna('',inplace = True)\n",
    "\n",
    "no_time = [i for i in dfs.index if len(dfs.at[i,'Date Time'].split()) < 2]\n",
    "dfs.drop(labels=no_time, axis = 0, inplace=True)\n",
    "double_date = [i for i in dfs.index if ':' not in dfs.at[i,'Date Time'].split()[1]]\n",
    "dfs.drop(labels=double_date, axis = 0, inplace=True)\n",
    "days_of_week = list(set([dt.strptime(i.split()[0],'%m/%d/%Y') for i in dfs['Date Time']]))\n",
    "dfs['grouper'] = [dt.strptime(i.split()[0],'%m/%d/%Y') for i in dfs['Date Time']]\n",
    "\n",
    "dfs.replace('--','',inplace = True)\n",
    "dfs.reset_index(inplace = True,drop = True)"
   ]
  },
  {
   "cell_type": "code",
   "execution_count": 85,
   "metadata": {
    "scrolled": false
   },
   "outputs": [],
   "source": [
    "for d in days_of_week:\n",
    "    \n",
    "    day = day_label[d.weekday()]\n",
    "    df = dfs[dfs['grouper'] == d].copy()\n",
    "    \n",
    "    new_df = pd.DataFrame({'a': [country_fix(i) for i in df['Unnamed: 1'] ],\n",
    "                           'b': [i.split()[1] for i in df['Date Time']],\n",
    "                           'c': df['Event'],\n",
    "                           'd':  [percent(i) for i in df['Survey']]})\n",
    "    \n",
    "\n",
    "    \n",
    "    h = open(f\"C:\\\\BLP\\\\data\\\\news{d.strftime('%Y_%m_%d')}_{day}.txt\",\"w\")\n",
    "    t = [f'***{day.upper()}***\\n\\n','***Economic Releases***\\n\\n','***Speakers***\\n\\n','***Supply***\\n\\n']\n",
    "    L = ['{'+new_df.a[i]+'} '+ new_df.b[i] +', '+ new_df.c[i] +' '+new_df.d[i]+'\\n'  for i in new_df.index ]\n",
    "    h.writelines(t+L)\n",
    "    h.close()\n",
    "    "
   ]
  },
  {
   "cell_type": "code",
   "execution_count": null,
   "metadata": {},
   "outputs": [],
   "source": []
  },
  {
   "cell_type": "code",
   "execution_count": null,
   "metadata": {},
   "outputs": [],
   "source": []
  },
  {
   "cell_type": "code",
   "execution_count": null,
   "metadata": {},
   "outputs": [],
   "source": []
  },
  {
   "cell_type": "code",
   "execution_count": null,
   "metadata": {},
   "outputs": [],
   "source": []
  },
  {
   "cell_type": "code",
   "execution_count": null,
   "metadata": {},
   "outputs": [],
   "source": []
  },
  {
   "cell_type": "code",
   "execution_count": null,
   "metadata": {},
   "outputs": [],
   "source": []
  },
  {
   "cell_type": "code",
   "execution_count": null,
   "metadata": {},
   "outputs": [],
   "source": []
  },
  {
   "cell_type": "code",
   "execution_count": null,
   "metadata": {},
   "outputs": [],
   "source": []
  },
  {
   "cell_type": "code",
   "execution_count": null,
   "metadata": {},
   "outputs": [],
   "source": []
  }
 ],
 "metadata": {
  "kernelspec": {
   "display_name": "Python 3",
   "language": "python",
   "name": "python3"
  },
  "language_info": {
   "codemirror_mode": {
    "name": "ipython",
    "version": 3
   },
   "file_extension": ".py",
   "mimetype": "text/x-python",
   "name": "python",
   "nbconvert_exporter": "python",
   "pygments_lexer": "ipython3",
   "version": "3.6.5"
  }
 },
 "nbformat": 4,
 "nbformat_minor": 2
}
